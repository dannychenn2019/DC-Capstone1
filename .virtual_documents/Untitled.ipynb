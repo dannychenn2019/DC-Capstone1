import streamlit as st
import pandas as pd
import seaborn as sns
import matplotlib.pyplot as plt
import plotly.express as px

# Load dataset
@st.cache_data
def load_data():
    file_path = "/Users/dannychen/Downloads/student_performance_dataset.csv"
    data = pd.read_csv(file_path)
    return data

data = load_data()

# Set up Streamlit app
st.set_page_config(page_title="Student Performance Analysis", layout="wide")

# Home Page
st.title("📊 Student Performance Analysis App")
st.markdown("Welcome to the Student Performance Analysis App! This app helps you explore factors affecting students' final exam scores through visualizations and predictive modeling.")

# Sidebar navigation
menu = st.sidebar.selectbox("Select a Page", ("Home", "Overview of the Data", "EDA"))

if menu == "Overview of the Data":
    st.header("Overview of the Data")
    st.write("Here's a quick look at the dataset:")
    st.dataframe(data.head())
    st.write("Dataset Information:")
    st.text(data.info())
    st.write("Summary Statistics:")
    st.write(data.describe())

elif menu == "EDA":
    st.header("Exploratory Data Analysis (EDA)")
    
    # Correlation Heatmap
    st.subheader("Correlation Heatmap")
    corr = data.corr()
    fig, ax = plt.subplots()
    sns.heatmap(corr, annot=True, fmt='.2f', cmap='coolwarm', ax=ax)
    st.pyplot(fig)
    
    # Histograms
    st.subheader("Distribution of Numerical Features")
    for col in ['Study_Hours_per_Week', 'Attendance_Rate', 'Past_Exam_Scores']:
        fig, ax = plt.subplots()
        sns.histplot(data[col], kde=True, ax=ax)
        st.pyplot(fig)

    # Scatter Plots
    st.subheader("Relationships Between Features")
    fig = px.scatter(data, x='Study_Hours_per_Week', y='Final_Exam_Score', color='Gender', title='Study Hours vs Final Exam Score')
    st.plotly_chart(fig)

    # Box Plots
    st.subheader("Distribution by Categorical Features")
    fig = px.box(data, x='Parental_Education_Level', y='Final_Exam_Score', color='Parental_Education_Level', title='Final Exam Scores by Parental Education Level')
    st.plotly_chart(fig)

    # Bar Charts
    st.subheader("Impact of Internet Access and Extracurricular Activities")
    fig = px.bar(data, x='Internet_Access_at_Home', y='Final_Exam_Score', color='Internet_Access_at_Home', title='Internet Access vs Final Exam Score')
    st.plotly_chart(fig)
    fig = px.bar(data, x='Extracurricular_Activities', y='Final_Exam_Score', color='Extracurricular_Activities', title='Extracurricular Activities vs Final Exam Score')
    st.plotly_chart(fig)

