import streamlit as st
import pandas as pd
import seaborn as sns
import matplotlib.pyplot as plt

# Load the dataset
file_path = "/Users/dannychen/Downloads/student_performance_dataset.csv"
df = pd.read_csv(file_path)

# Set Streamlit app configuration
st.set_page_config(page_title="Student Performance Analysis", page_icon="📊", layout="wide")

# Sidebar navigation
st.sidebar.title("Navigation")
page = st.sidebar.radio("Go to", ["Home", "Overview of the Data", "Exploratory Data Analysis (EDA)"])

# Home Page
if page == "Home":
    st.title("📊 Student Performance Analysis")
    st.image("https://images.unsplash.com/photo-1596495577886-d920f1a5014d", use_column_width=True)
    st.markdown("""
        Welcome to the **Student Performance Analysis** app! 🎓  
        This app explores a dataset containing information about students' academic performance, study habits, and external factors.  
        Use the sidebar to navigate between pages and discover insights about what influences final exam scores. 🚀  
    """)

# Overview of the Data
elif page == "Overview of the Data":
    st.title("📋 Overview of the Data")
    st.write("This section provides a brief overview of the dataset, including key features and data types.")
    
    st.subheader("Sample Data")
    st.dataframe(df.head())

    st.subheader("Dataset Information")
    st.write("Number of rows:", df.shape[0])
    st.write("Number of columns:", df.shape[1])

    st.subheader("Column Data Types")
    st.write(df.dtypes)

    st.subheader("Summary Statistics")
    st.write(df.describe())

# EDA Page
elif page == "Exploratory Data Analysis (EDA)":
    st.title("📊 Exploratory Data Analysis (EDA)")
    st.write("Visualizations to explore distributions and relationships within the data.")

    # Histogram for numerical features
    st.subheader("Distribution of Numerical Features")
    num_columns = ["Study_Hours_per_Week", "Attendance_Rate", "Past_Exam_Scores", "Final_Exam_Score"]
    for col in num_columns:
        fig, ax = plt.subplots()
        sns.histplot(df[col], bins=20, kde=True, ax=ax, color="skyblue")
        ax.set_title(f"Distribution of {col}")
        st.pyplot(fig)

    # Scatter plots for relationships between features
    st.subheader("Scatter Plots: Relationships between Features")
    scatter_features = [("Study_Hours_per_Week", "Final_Exam_Score"), ("Past_Exam_Scores", "Final_Exam_Score")]
    for x, y in scatter_features:
        fig, ax = plt.subplots()
        sns.scatterplot(data=df, x=x, y=y, hue="Gender", palette="viridis", ax=ax)
        ax.set_title(f"{y} vs {x}")
        st.pyplot(fig)

    # Box plots for categorical features
    st.subheader("Box Plots: Categorical Features vs Final Exam Score")
    cat_columns = ["Parental_Education_Level", "Internet_Access_at_Home", "Extracurricular_Activities", "Gender"]
    for col in cat_columns:
        fig, ax = plt.subplots()
        sns.boxplot(data=df, x=col, y="Final_Exam_Score", palette="Set2", ax=ax)
        ax.set_title(f"Final Exam Score by {col}")
        plt.xticks(rotation=45)
        st.pyplot(fig)

    # Bar charts for categorical data
    st.subheader("Bar Charts: Categorical Data Distribution")
    for col in cat_columns:
        fig, ax = plt.subplots()
        df[col].value_counts().plot(kind='bar', color='teal', ax=ax)
        ax.set_title(f"Distribution of {col}")
        st.pyplot(fig)

